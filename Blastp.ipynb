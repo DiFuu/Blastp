{
 "cells": [
  {
   "cell_type": "code",
   "execution_count": 11,
   "id": "cf93b552",
   "metadata": {},
   "outputs": [],
   "source": [
    "from Bio.Blast import NCBIWWW\n",
    "from Bio.Blast import NCBIXML"
   ]
  },
  {
   "cell_type": "code",
   "execution_count": 12,
   "id": "2c47c731",
   "metadata": {},
   "outputs": [
    {
     "data": {
      "text/plain": [
       "'MSIQHFRVALIPFFAAFCLPVFAHPETLVKVKDAEDQLGARVGYIELDLNSGKILESFRPEERFPMMSTFKVLLCGAVLSRVDAGQEQLGRRIHYSQNDLVEYSPVTEKHLTDGMTVRELCSAAITMSDNTAANLLLTTIGGPKELTAFLHNMGDHVTRLDRWEPELNEAIPNDERETTTPAAMATTLRKLLTGELLTLASRQQLIDWMEADKVAGPLLRSALPAGWFIADKSGAGERGSRGIIAALGPDGKPSRIVVIYTTGSQATMDERNRQIAEIGASLIKHW'"
      ]
     },
     "execution_count": 12,
     "metadata": {},
     "output_type": "execute_result"
    }
   ],
   "source": [
    "sequence_data = open(\"sequence.fasta\").read() #open the sequence file\n",
    "sequence_data"
   ]
  },
  {
   "cell_type": "code",
   "execution_count": 13,
   "id": "25bd46f2",
   "metadata": {},
   "outputs": [
    {
     "data": {
      "text/plain": [
       "<_io.StringIO at 0x27c1884cdc0>"
      ]
     },
     "execution_count": 13,
     "metadata": {},
     "output_type": "execute_result"
    }
   ],
   "source": [
    "#qblast function passing sequence data as main parameter, blastp program, nr database\n",
    "result_handle = NCBIWWW.qblast(\"blastp\", \"nr\", sequence_data)\n",
    "result_handle"
   ]
  },
  {
   "cell_type": "code",
   "execution_count": 14,
   "id": "e26e80d3",
   "metadata": {},
   "outputs": [],
   "source": [
    "#We save the blast results to results.xml\n",
    "with open('results.xml','w') as save_file:\n",
    "    blast_results = result_handle.read()\n",
    "    save_file.write(blast_results)"
   ]
  },
  {
   "cell_type": "code",
   "execution_count": 15,
   "id": "993ba873",
   "metadata": {},
   "outputs": [
    {
     "name": "stdout",
     "output_type": "stream",
     "text": [
      "\n",
      "\n",
      "query: unnamed protein product\n",
      "match: ref|WP_063864819.1| extended-spectrum class A beta-lactamase TEM-126 [Escherichia coli] >gb|AAT45742 \n",
      "match: gb|EJF1587598.1| TEM family class A beta-lactamase [Escherichia coli] \n",
      "match: ref|WP_015058868.1| MULTISPECIES: broad-spectrum class A beta-lactamase TEM-135 [Proteobacteria] >gb \n",
      "match: gb|ANG33372.1| beta-lactamase TEM-1 variant [synthetic construct] \n",
      "match: gb|ANG10413.1| beta-lactamase TEM-1 variant [synthetic construct] \n",
      "match: gb|ANG30937.1| beta-lactamase TEM-1 variant [synthetic construct] \n",
      "match: gb|ANG11084.1| beta-lactamase TEM-1 variant [synthetic construct] \n",
      "match: gb|ARF47021.1| beta-lactamase TEM-1 variant [synthetic construct] \n",
      "match: gb|ANG30838.1| beta-lactamase TEM-1 variant [synthetic construct] \n",
      "match: gb|ANG19061.1| beta-lactamase TEM-1 variant [synthetic construct] >gb|ANG25212.1| beta-lactamase TEM \n",
      "match: tpg|HBD9847171.1| TEM family class A beta-lactamase [Shigella sonnei] \n",
      "match: ref|WP_063864796.1| extended-spectrum class A beta-lactamase TEM-106 [Escherichia coli] >gb|ARF29624 \n",
      "match: gb|ANG27626.1| beta-lactamase TEM-1 variant [synthetic construct] \n",
      "match: gb|EIL3267204.1| TEM family class A beta-lactamase [Escherichia coli] >gb|EIL3267691.1| TEM family c \n",
      "match: gb|ANG29782.1| beta-lactamase TEM-1 variant [synthetic construct] >gb|ANG35920.1| beta-lactamase TEM \n",
      "match: gb|ARF42715.1| beta-lactamase TEM-1 variant [synthetic construct] \n",
      "match: gb|ANG15722.1| beta-lactamase TEM-1 variant [synthetic construct] \n",
      "match: gb|ANG29272.1| beta-lactamase TEM-1 variant [synthetic construct] \n",
      "match: gb|ANG10106.1| beta-lactamase TEM-1 variant [synthetic construct] \n",
      "match: gb|ANG29825.1| beta-lactamase TEM-1 variant [synthetic construct] \n",
      "match: gb|ANG30219.1| beta-lactamase TEM-1 variant [synthetic construct] \n",
      "match: gb|ANG22304.1| beta-lactamase TEM-1 variant [synthetic construct] \n",
      "match: gb|ANG33245.1| beta-lactamase TEM-1 variant [synthetic construct] \n",
      "match: gb|ANG25774.1| beta-lactamase TEM-1 variant [synthetic construct] >gb|ARF32424.1| beta-lactamase TEM \n",
      "match: gb|ARF31459.1| beta-lactamase TEM-1 variant [synthetic construct] >gb|ARF39022.1| beta-lactamase TEM \n",
      "match: gb|ARF43302.1| beta-lactamase TEM-1 variant [synthetic construct] \n",
      "match: gb|EHJ9067822.1| TEM family class A beta-lactamase [Salmonella enterica] \n",
      "match: gb|ANG32765.1| beta-lactamase TEM-1 variant [synthetic construct] \n",
      "match: gb|ECR4446103.1| TEM family class A beta-lactamase [Salmonella enterica subsp. enterica] >gb|MCI3350 \n",
      "match: gb|ANG20327.1| beta-lactamase TEM-1 variant [synthetic construct] >gb|ANG21725.1| beta-lactamase TEM \n",
      "match: gb|ANG28208.1| beta-lactamase TEM-1 variant [synthetic construct] \n",
      "match: ref|WP_063864907.1| class A beta-lactamase TEM-220 [Neisseria gonorrhoeae] >gb|AIW68620.1| beta-lact \n",
      "match: ref|WP_172692439.1| TEM family class A beta-lactamase [Escherichia coli] >gb|AUO29340.1| Beta-lactam \n",
      "match: gb|ANG29563.1| beta-lactamase TEM-1 variant [synthetic construct] \n",
      "match: gb|ANG21748.1| beta-lactamase TEM-1 variant [synthetic construct] >gb|ANG25246.1| beta-lactamase TEM \n",
      "match: gb|ANG31440.1| beta-lactamase TEM-1 variant [synthetic construct] \n",
      "match: gb|ANG15467.1| beta-lactamase TEM-1 variant [synthetic construct] \n",
      "match: gb|ANG19928.1| beta-lactamase TEM-1 variant [synthetic construct] \n",
      "match: gb|ANG09771.1| beta-lactamase TEM-1 variant [synthetic construct] \n",
      "match: gb|ANG12466.1| beta-lactamase TEM-1 variant [synthetic construct] \n",
      "match: gb|ANG14981.1| beta-lactamase TEM-1 variant [synthetic construct] >gb|ANG17869.1| beta-lactamase TEM \n",
      "match: gb|ANG32837.1| beta-lactamase TEM-1 variant [synthetic construct] \n",
      "match: gb|ANG27872.1| beta-lactamase TEM-1 variant [synthetic construct] \n",
      "match: ref|WP_188015455.1| TEM family class A beta-lactamase [Escherichia coli] >gb|MBJ3148253.1| TEM famil \n",
      "match: gb|ANG30634.1| beta-lactamase TEM-1 variant [synthetic construct] \n",
      "match: gb|ANG11337.1| beta-lactamase TEM-1 variant [synthetic construct] >gb|EFH3102826.1| TEM family class \n",
      "match: gb|ANG19027.1| beta-lactamase TEM-1 variant [synthetic construct] >gb|ANG31459.1| beta-lactamase TEM \n",
      "match: gb|ANG31171.1| beta-lactamase TEM-1 variant [synthetic construct] \n",
      "match: gb|ANG32511.1| beta-lactamase TEM-1 variant [synthetic construct] \n",
      "match: gb|ANG20049.1| beta-lactamase TEM-1 variant [synthetic construct] >gb|ANG23126.1| beta-lactamase TEM \n"
     ]
    }
   ],
   "source": [
    "E_VALUE_THRESH = 1e-20 #E value limit\n",
    "for record in NCBIXML.parse(open(\"results.xml\")): \n",
    "    if record.alignments:\n",
    "        print(\"\\n\")\n",
    "        print(\"query: %s\" % record.query[:100]) #type of sequence\n",
    "        for align in record.alignments:\n",
    "            for hsp in align.hsps: #high scoring pairs\n",
    "                if hsp.expect < E_VALUE_THRESH:\n",
    "                    print(\"match: %s \" % align.title[:100])"
   ]
  }
 ],
 "metadata": {
  "kernelspec": {
   "display_name": "Python 3 (ipykernel)",
   "language": "python",
   "name": "python3"
  },
  "language_info": {
   "codemirror_mode": {
    "name": "ipython",
    "version": 3
   },
   "file_extension": ".py",
   "mimetype": "text/x-python",
   "name": "python",
   "nbconvert_exporter": "python",
   "pygments_lexer": "ipython3",
   "version": "3.9.12"
  }
 },
 "nbformat": 4,
 "nbformat_minor": 5
}
